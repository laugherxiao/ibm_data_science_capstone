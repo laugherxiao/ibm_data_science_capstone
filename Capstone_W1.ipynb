{
 "cells": [
  {
   "cell_type": "markdown",
   "id": "7ec53c3c-10d0-4a2e-bc01-cab9ddab22da",
   "metadata": {},
   "source": [
    "# Data Science Coursera Capstone\n",
    "The Aim of this notebook is to complete the IBM Data Science Coursera Capstone project."
   ]
  },
  {
   "cell_type": "code",
   "execution_count": 1,
   "id": "8d6294c3-34c2-4751-adea-fe4b70dee74a",
   "metadata": {},
   "outputs": [
    {
     "name": "stdout",
     "output_type": "stream",
     "text": [
      "Hello Capstone Project Course!\n"
     ]
    }
   ],
   "source": [
    "import pandas as pd\n",
    "import numpy as np\n",
    "\n",
    "print(\"Hello Capstone Project Course!\")"
   ]
  },
  {
   "cell_type": "code",
   "execution_count": null,
   "id": "adca602d-0e7c-42a6-a4f2-de620c8c010c",
   "metadata": {},
   "outputs": [],
   "source": []
  }
 ],
 "metadata": {
  "kernelspec": {
   "display_name": "Python",
   "language": "python",
   "name": "conda-env-python-py"
  },
  "language_info": {
   "codemirror_mode": {
    "name": "ipython",
    "version": 3
   },
   "file_extension": ".py",
   "mimetype": "text/x-python",
   "name": "python",
   "nbconvert_exporter": "python",
   "pygments_lexer": "ipython3",
   "version": "3.6.13"
  }
 },
 "nbformat": 4,
 "nbformat_minor": 5
}
